{
  "nbformat": 4,
  "nbformat_minor": 0,
  "metadata": {
    "colab": {
      "provenance": [],
      "authorship_tag": "ABX9TyMOanwepfMyu4LXA83ZE5zB",
      "include_colab_link": true
    },
    "kernelspec": {
      "name": "python3",
      "display_name": "Python 3"
    },
    "language_info": {
      "name": "python"
    }
  },
  "cells": [
    {
      "cell_type": "markdown",
      "metadata": {
        "id": "view-in-github",
        "colab_type": "text"
      },
      "source": [
        "<a href=\"https://colab.research.google.com/github/taizun-jj202/PyTorch_Basics/blob/basic_ops/TensorIndexing.ipynb\" target=\"_parent\"><img src=\"https://colab.research.google.com/assets/colab-badge.svg\" alt=\"Open In Colab\"/></a>"
      ]
    },
    {
      "cell_type": "code",
      "source": [
        "import torch"
      ],
      "metadata": {
        "id": "hLo_WvwMrZvB"
      },
      "execution_count": 4,
      "outputs": []
    },
    {
      "cell_type": "code",
      "execution_count": 17,
      "metadata": {
        "colab": {
          "base_uri": "https://localhost:8080/"
        },
        "id": "cK9fnke0rIpc",
        "outputId": "3370416f-a8e7-4d00-acb7-90db90e1c6bc"
      },
      "outputs": [
        {
          "output_type": "execute_result",
          "data": {
            "text/plain": [
              "tensor([0.3606, 0.1630, 0.0422, 0.8145, 0.9788, 0.0420, 0.3481, 0.1920, 0.4484,\n",
              "        0.6007, 0.7563, 0.6342, 0.0129, 0.3698, 0.9410, 0.2155, 0.8499, 0.4030,\n",
              "        0.9078, 0.5687, 0.3418, 0.7363, 0.0168, 0.7395, 0.2865])"
            ]
          },
          "metadata": {},
          "execution_count": 17
        }
      ],
      "source": [
        "batch_size = 10\n",
        "features = 25\n",
        "\n",
        "x = torch.rand((batch_size, features))\n",
        "x[0]\n"
      ]
    },
    {
      "cell_type": "code",
      "source": [
        "x[:,0]"
      ],
      "metadata": {
        "colab": {
          "base_uri": "https://localhost:8080/"
        },
        "id": "CUmuC_nUrYvN",
        "outputId": "0e99cc4f-860c-4b40-b8c1-9d2303772f19"
      },
      "execution_count": 18,
      "outputs": [
        {
          "output_type": "execute_result",
          "data": {
            "text/plain": [
              "tensor([0.3606, 0.5116, 0.1194, 0.1004, 0.0242, 0.7661, 0.6945, 0.9445, 0.9104,\n",
              "        0.0022])"
            ]
          },
          "metadata": {},
          "execution_count": 18
        }
      ]
    },
    {
      "cell_type": "code",
      "source": [
        "x[2,0:10]"
      ],
      "metadata": {
        "colab": {
          "base_uri": "https://localhost:8080/"
        },
        "id": "gCPs4sC8r9o5",
        "outputId": "9fea535e-10ce-4d0e-9206-955b094e3dfa"
      },
      "execution_count": 19,
      "outputs": [
        {
          "output_type": "execute_result",
          "data": {
            "text/plain": [
              "tensor([0.1194, 0.2943, 0.1657, 0.9226, 0.1416, 0.6561, 0.8847, 0.2086, 0.0787,\n",
              "        0.6916])"
            ]
          },
          "metadata": {},
          "execution_count": 19
        }
      ]
    },
    {
      "cell_type": "code",
      "source": [
        "# Fancy Indexing\n",
        "x = torch.arange(10)\n",
        "print(x)\n",
        "indices = [2,5,8]\n",
        "x[indices]"
      ],
      "metadata": {
        "colab": {
          "base_uri": "https://localhost:8080/"
        },
        "id": "-EtaDc9MsO0S",
        "outputId": "248936d8-a978-4271-cdd3-0d0566e6e3d1"
      },
      "execution_count": 21,
      "outputs": [
        {
          "output_type": "stream",
          "name": "stdout",
          "text": [
            "tensor([0, 1, 2, 3, 4, 5, 6, 7, 8, 9])\n"
          ]
        },
        {
          "output_type": "execute_result",
          "data": {
            "text/plain": [
              "tensor([2, 5, 8])"
            ]
          },
          "metadata": {},
          "execution_count": 21
        }
      ]
    },
    {
      "cell_type": "code",
      "source": [
        "x = torch.rand((3,5))\n",
        "print(x)\n",
        "rows = torch.tensor([1,0])\n",
        "cols = torch.tensor([4,0])\n",
        "print(x[rows,cols])"
      ],
      "metadata": {
        "colab": {
          "base_uri": "https://localhost:8080/"
        },
        "id": "s9gO-ioJvXSr",
        "outputId": "3c3471d8-876a-400b-a1b3-77fb0a510f5a"
      },
      "execution_count": 24,
      "outputs": [
        {
          "output_type": "stream",
          "name": "stdout",
          "text": [
            "tensor([[0.1056, 0.5548, 0.9353, 0.8041, 0.2163],\n",
            "        [0.6632, 0.8043, 0.6958, 0.1169, 0.5192],\n",
            "        [0.2128, 0.9433, 0.3451, 0.5624, 0.1746]])\n",
            "tensor([0.5192, 0.1056])\n"
          ]
        }
      ]
    },
    {
      "cell_type": "code",
      "source": [
        "#Advanced indexing\n",
        "x = torch.arange(10)\n",
        "print(x[ (x < 2) | (x > 8) ])\n",
        "print( x[ x.remainder(2) == 0 ] )"
      ],
      "metadata": {
        "colab": {
          "base_uri": "https://localhost:8080/"
        },
        "id": "j8j3c1_ewP2l",
        "outputId": "516478b4-a85b-4c39-f05a-e3b387835617"
      },
      "execution_count": 33,
      "outputs": [
        {
          "output_type": "stream",
          "name": "stdout",
          "text": [
            "tensor([0, 1, 9])\n",
            "tensor([0, 2, 4, 6, 8])\n"
          ]
        }
      ]
    },
    {
      "cell_type": "code",
      "source": [
        "#  useful operations\n",
        "print(x)\n",
        "print(torch.where(x > 5, x, x*2))\n",
        "\n",
        "print(torch.tensor( [0,0,1,1,2,2,3,4]).unique())\n",
        "print(x.ndimension())\n",
        "print(x.numel())"
      ],
      "metadata": {
        "colab": {
          "base_uri": "https://localhost:8080/"
        },
        "id": "fyKLe9k8wpK5",
        "outputId": "12a4ac45-c2fd-4e0e-c824-802a1914a355"
      },
      "execution_count": 43,
      "outputs": [
        {
          "output_type": "stream",
          "name": "stdout",
          "text": [
            "tensor([0, 1, 2, 3, 4, 5, 6, 7, 8, 9])\n",
            "tensor([ 0,  2,  4,  6,  8, 10,  6,  7,  8,  9])\n",
            "tensor([0, 1, 2, 3, 4])\n",
            "1\n",
            "10\n"
          ]
        }
      ]
    }
  ]
}