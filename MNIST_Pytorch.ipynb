{
  "cells": [
    {
      "cell_type": "markdown",
      "metadata": {
        "id": "view-in-github",
        "colab_type": "text"
      },
      "source": [
        "<a href=\"https://colab.research.google.com/github/taizun-jj202/PyTorch_Basics/blob/NN/MNIST_Pytorch.ipynb\" target=\"_parent\"><img src=\"https://colab.research.google.com/assets/colab-badge.svg\" alt=\"Open In Colab\"/></a>"
      ]
    },
    {
      "cell_type": "code",
      "execution_count": 1,
      "metadata": {
        "id": "kbJ8geN4YHv3"
      },
      "outputs": [],
      "source": [
        "#importing libraries\n",
        "import torch\n",
        "import torch.nn as nn\n",
        "import torch.optim as optim # contains SGD, Adam\n",
        "import torch.nn.functional as F #Contains activation funcs , relu,tanh etc\n",
        "from torch.utils.data import DataLoader\n",
        "import torchvision.datasets as ds\n",
        "import torchvision.transforms as transforms"
      ]
    },
    {
      "cell_type": "code",
      "execution_count": 2,
      "metadata": {
        "id": "ceGzj6vYZNJJ"
      },
      "outputs": [],
      "source": [
        "# Creating the NN\n",
        "\n",
        "class NN(nn.Module):\n",
        "    def __init__(self, input_size, num_classes):\n",
        "        super().__init__()\n",
        "        self.f1 = nn.Linear(input_size, 50)\n",
        "        self.f2 = nn.Linear(50, num_classes)\n",
        "\n",
        "    def forward(self ,x):\n",
        "       x = F.relu(self.f1(x))\n",
        "       x = self.f2(x)\n",
        "       return x "
      ]
    },
    {
      "cell_type": "code",
      "execution_count": 3,
      "metadata": {
        "colab": {
          "base_uri": "https://localhost:8080/"
        },
        "id": "y3RYSLY8Z75V",
        "outputId": "a0ed6046-f86c-460a-de2a-bea1adcd754c"
      },
      "outputs": [
        {
          "output_type": "stream",
          "name": "stdout",
          "text": [
            "torch.Size([64, 10])\n"
          ]
        }
      ],
      "source": [
        "#Checking if the model returns the output in proper shape \n",
        "m = NN(784, 10)\n",
        "X = torch.rand(64,784)\n",
        "print(m(X).shape)"
      ]
    },
    {
      "cell_type": "code",
      "execution_count": 4,
      "metadata": {
        "colab": {
          "base_uri": "https://localhost:8080/"
        },
        "id": "5DHcclLdacRz",
        "outputId": "8f48cf26-c211-436e-8967-ec7e49095ba4"
      },
      "outputs": [
        {
          "output_type": "execute_result",
          "data": {
            "text/plain": [
              "device(type='cuda')"
            ]
          },
          "metadata": {},
          "execution_count": 4
        }
      ],
      "source": [
        "device = torch.device('cuda' if torch.cuda.is_available() else 'cpu')\n",
        "device"
      ]
    },
    {
      "cell_type": "code",
      "execution_count": 5,
      "metadata": {
        "id": "9CryjxYGan_a"
      },
      "outputs": [],
      "source": [
        "#Setting the Hyperparameters\n",
        "input_size = 784\n",
        "num_classes = 10\n",
        "learning_rate = 0.001\n",
        "batch_size = 64\n",
        "num_epochs = 5"
      ]
    },
    {
      "cell_type": "code",
      "execution_count": 6,
      "metadata": {
        "colab": {
          "base_uri": "https://localhost:8080/"
        },
        "id": "4nEC7NrObKxx",
        "outputId": "c926fdc9-2a5f-42fb-deb9-2e22ebf6ef54"
      },
      "outputs": [
        {
          "output_type": "stream",
          "name": "stdout",
          "text": [
            "Downloading http://yann.lecun.com/exdb/mnist/train-images-idx3-ubyte.gz\n",
            "Downloading http://yann.lecun.com/exdb/mnist/train-images-idx3-ubyte.gz to dataset/MNIST/raw/train-images-idx3-ubyte.gz\n"
          ]
        },
        {
          "output_type": "stream",
          "name": "stderr",
          "text": [
            "100%|██████████| 9912422/9912422 [00:00<00:00, 326858215.10it/s]"
          ]
        },
        {
          "output_type": "stream",
          "name": "stdout",
          "text": [
            "Extracting dataset/MNIST/raw/train-images-idx3-ubyte.gz to dataset/MNIST/raw\n"
          ]
        },
        {
          "output_type": "stream",
          "name": "stderr",
          "text": [
            "\n"
          ]
        },
        {
          "output_type": "stream",
          "name": "stdout",
          "text": [
            "\n",
            "Downloading http://yann.lecun.com/exdb/mnist/train-labels-idx1-ubyte.gz\n",
            "Downloading http://yann.lecun.com/exdb/mnist/train-labels-idx1-ubyte.gz to dataset/MNIST/raw/train-labels-idx1-ubyte.gz\n"
          ]
        },
        {
          "output_type": "stream",
          "name": "stderr",
          "text": [
            "100%|██████████| 28881/28881 [00:00<00:00, 129834612.89it/s]\n"
          ]
        },
        {
          "output_type": "stream",
          "name": "stdout",
          "text": [
            "Extracting dataset/MNIST/raw/train-labels-idx1-ubyte.gz to dataset/MNIST/raw\n",
            "\n",
            "Downloading http://yann.lecun.com/exdb/mnist/t10k-images-idx3-ubyte.gz\n",
            "Downloading http://yann.lecun.com/exdb/mnist/t10k-images-idx3-ubyte.gz to dataset/MNIST/raw/t10k-images-idx3-ubyte.gz\n"
          ]
        },
        {
          "output_type": "stream",
          "name": "stderr",
          "text": [
            "100%|██████████| 1648877/1648877 [00:00<00:00, 182969770.80it/s]"
          ]
        },
        {
          "output_type": "stream",
          "name": "stdout",
          "text": [
            "Extracting dataset/MNIST/raw/t10k-images-idx3-ubyte.gz to dataset/MNIST/raw\n"
          ]
        },
        {
          "output_type": "stream",
          "name": "stderr",
          "text": [
            "\n"
          ]
        },
        {
          "output_type": "stream",
          "name": "stdout",
          "text": [
            "\n",
            "Downloading http://yann.lecun.com/exdb/mnist/t10k-labels-idx1-ubyte.gz\n",
            "Downloading http://yann.lecun.com/exdb/mnist/t10k-labels-idx1-ubyte.gz to dataset/MNIST/raw/t10k-labels-idx1-ubyte.gz\n"
          ]
        },
        {
          "output_type": "stream",
          "name": "stderr",
          "text": [
            "100%|██████████| 4542/4542 [00:00<00:00, 3625909.55it/s]\n"
          ]
        },
        {
          "output_type": "stream",
          "name": "stdout",
          "text": [
            "Extracting dataset/MNIST/raw/t10k-labels-idx1-ubyte.gz to dataset/MNIST/raw\n",
            "\n"
          ]
        }
      ],
      "source": [
        "#Loading the data\n",
        "train_dataset = ds.MNIST(root = 'dataset/',train = True, transform = transforms.ToTensor(),download = True)\n",
        "train_loader = DataLoader(dataset = train_dataset, batch_size = batch_size,shuffle=True)\n",
        "\n",
        "test_dataset = ds.MNIST(root = 'dataset/',train = False, transform = transforms.ToTensor(),download = True)\n",
        "test_loader = DataLoader(dataset = test_dataset, batch_size = batch_size,shuffle=True)\n"
      ]
    },
    {
      "cell_type": "code",
      "execution_count": 7,
      "metadata": {
        "id": "tZ6GoGeScLN7"
      },
      "outputs": [],
      "source": [
        "#Initialize the network\n",
        "model = NN(input_size, num_classes).to(device)"
      ]
    },
    {
      "cell_type": "code",
      "execution_count": 8,
      "metadata": {
        "id": "JIhjb7t4cYiw"
      },
      "outputs": [],
      "source": [
        "#Loss and optimizer\n",
        "criterion = nn.CrossEntropyLoss()\n",
        "optimizer  = optim.Adam(model.parameters(), lr = learning_rate)"
      ]
    },
    {
      "cell_type": "code",
      "execution_count": 9,
      "metadata": {
        "id": "zlaaBc_yfI4q"
      },
      "outputs": [],
      "source": [
        "#Training the network\n",
        "for epoch in range(num_epochs):\n",
        "    for batch_idx, (data, targets) in enumerate(train_loader):\n",
        "        \n",
        "        #run data and targets on GPU\n",
        "        data = data.to(device = device)\n",
        "        targets = targets.to(device = device)\n",
        "        \n",
        "        #Get to correct shape\n",
        "        data = data.reshape(data.shape[0],-1)\n",
        "\n",
        "        #Forward\n",
        "        scores = model(data)\n",
        "        loss = criterion(scores, targets)\n",
        "\n",
        "        #backprop\n",
        "        optimizer.zero_grad() #Set gradient to zero for each batch/run\n",
        "        loss.backward() # pytorch automatically runs the backprop using this command\n",
        "\n",
        "        #gradient step\n",
        "        optimizer.step() #Updating the steps computed in loss.backward()\n",
        "\n",
        "        "
      ]
    },
    {
      "cell_type": "code",
      "execution_count": 10,
      "metadata": {
        "colab": {
          "base_uri": "https://localhost:8080/"
        },
        "id": "B8uhRTgzhGF0",
        "outputId": "8c3c0c2c-1cf6-4cd4-c312-7f7ff36cc7b7"
      },
      "outputs": [
        {
          "output_type": "stream",
          "name": "stdout",
          "text": [
            "Checking accuracy on train data\n",
            "Got 58229 / 60000 with accuracy 97.05\n",
            "Checking accuracy on test data\n",
            "Got 9631 / 10000 with accuracy 96.31\n"
          ]
        }
      ],
      "source": [
        "#Check accuracy of the model to see how good it is\n",
        "\n",
        "def accuracy(loader, model):\n",
        "    if loader.dataset.train :\n",
        "        print(\"Checking accuracy on train data\")\n",
        "    else :\n",
        "        print(\"Checking accuracy on test data\")\n",
        "   \n",
        "    num_correct = 0\n",
        "    num_samples = 0\n",
        "    model.eval()\n",
        "\n",
        "    with torch.no_grad():\n",
        "        for x,y in loader :\n",
        "            x = x.to(device = device)\n",
        "            y = y.to(device = device)\n",
        "            x = x.reshape(x.shape[0], -1)\n",
        "            \n",
        "            scores = model(x)\n",
        "            _ , predictions = scores.max(1) #Gives the index of the highest value of the second dimension\n",
        "            num_correct += (predictions == y).sum()\n",
        "            num_samples += predictions.size(0)\n",
        "\n",
        "          \n",
        "        print(f\"Got {num_correct} / {num_samples} with accuracy {float(num_correct)/float(num_samples)*100:.2f}\")\n",
        "\n",
        "    model.train()\n",
        "\n",
        "\n",
        "accuracy(train_loader, model)\n",
        "accuracy(test_loader, model)"
      ]
    }
  ],
  "metadata": {
    "accelerator": "GPU",
    "colab": {
      "provenance": [],
      "authorship_tag": "ABX9TyM/Q0OYpv6gYIB+vk1EiM2e",
      "include_colab_link": true
    },
    "gpuClass": "standard",
    "kernelspec": {
      "display_name": "Python 3",
      "name": "python3"
    },
    "language_info": {
      "name": "python"
    }
  },
  "nbformat": 4,
  "nbformat_minor": 0
}