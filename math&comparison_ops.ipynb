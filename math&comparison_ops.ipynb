{
  "nbformat": 4,
  "nbformat_minor": 0,
  "metadata": {
    "colab": {
      "provenance": [],
      "authorship_tag": "ABX9TyOcEToiL/tOmv/j9lPwnEfC",
      "include_colab_link": true
    },
    "kernelspec": {
      "name": "python3",
      "display_name": "Python 3"
    },
    "language_info": {
      "name": "python"
    }
  },
  "cells": [
    {
      "cell_type": "markdown",
      "metadata": {
        "id": "view-in-github",
        "colab_type": "text"
      },
      "source": [
        "<a href=\"https://colab.research.google.com/github/taizun-jj202/PyTorch/blob/basic_ops/math%26comparison_ops.ipynb\" target=\"_parent\"><img src=\"https://colab.research.google.com/assets/colab-badge.svg\" alt=\"Open In Colab\"/></a>"
      ]
    },
    {
      "cell_type": "code",
      "execution_count": 3,
      "metadata": {
        "id": "g-hsorg6ehfa"
      },
      "outputs": [],
      "source": [
        "import torch"
      ]
    },
    {
      "cell_type": "code",
      "source": [
        "x = torch.tensor([1,2,3])\n",
        "y = torch.tensor([9,8,7])"
      ],
      "metadata": {
        "id": "CnXQIPgLeu08"
      },
      "execution_count": 4,
      "outputs": []
    },
    {
      "cell_type": "code",
      "source": [
        "# Addition\n",
        "z1 = torch.empty(3)\n",
        "torch.add(x,y,out=z1)\n"
      ],
      "metadata": {
        "colab": {
          "base_uri": "https://localhost:8080/"
        },
        "id": "1HP1Ljc9e1wr",
        "outputId": "fbfbf538-bd81-4b17-81b6-1d1f09825354"
      },
      "execution_count": 6,
      "outputs": [
        {
          "output_type": "execute_result",
          "data": {
            "text/plain": [
              "tensor([10., 10., 10.])"
            ]
          },
          "metadata": {},
          "execution_count": 6
        }
      ]
    },
    {
      "cell_type": "code",
      "source": [
        "z2 = torch.add(x,y)\n",
        "z = x + y"
      ],
      "metadata": {
        "id": "Nqh7sJ3_fHaB"
      },
      "execution_count": 10,
      "outputs": []
    },
    {
      "cell_type": "code",
      "source": [
        "#Subtraction\n",
        "z  = x - y"
      ],
      "metadata": {
        "id": "PMLnYNaxfOm4"
      },
      "execution_count": 11,
      "outputs": []
    },
    {
      "cell_type": "code",
      "source": [
        "#Division \n",
        "z = torch.true_divide(x,y) #Element-wise division if both have equal shape\n",
        "z"
      ],
      "metadata": {
        "colab": {
          "base_uri": "https://localhost:8080/"
        },
        "id": "5mBAgkt5fSVB",
        "outputId": "3988205b-8215-4657-e0e4-8f76e47785e0"
      },
      "execution_count": 14,
      "outputs": [
        {
          "output_type": "execute_result",
          "data": {
            "text/plain": [
              "tensor([0.1111, 0.2500, 0.4286])"
            ]
          },
          "metadata": {},
          "execution_count": 14
        }
      ]
    },
    {
      "cell_type": "code",
      "source": [
        "#Inplace operations\n",
        "t = torch.zeros(3)\n",
        "t.add_(x)\n",
        "t += x "
      ],
      "metadata": {
        "id": "W11lxwykfhER"
      },
      "execution_count": 17,
      "outputs": []
    },
    {
      "cell_type": "code",
      "source": [
        "#Exponentiation\n",
        "\n",
        "z = x.pow(2)\n",
        "z = x**2\n",
        "z"
      ],
      "metadata": {
        "colab": {
          "base_uri": "https://localhost:8080/"
        },
        "id": "KrZHcq7XfycB",
        "outputId": "f0f3a675-9dec-472b-fe13-221b8a4e1845"
      },
      "execution_count": 21,
      "outputs": [
        {
          "output_type": "execute_result",
          "data": {
            "text/plain": [
              "tensor([1, 4, 9])"
            ]
          },
          "metadata": {},
          "execution_count": 21
        }
      ]
    },
    {
      "cell_type": "code",
      "source": [
        "#Simple comparison\n",
        "\n",
        "z = x > 0\n",
        "z"
      ],
      "metadata": {
        "colab": {
          "base_uri": "https://localhost:8080/"
        },
        "id": "rpmbTST1f_pU",
        "outputId": "ebe1345f-a942-4aca-fbb0-ba6ba519888b"
      },
      "execution_count": 22,
      "outputs": [
        {
          "output_type": "execute_result",
          "data": {
            "text/plain": [
              "tensor([True, True, True])"
            ]
          },
          "metadata": {},
          "execution_count": 22
        }
      ]
    },
    {
      "cell_type": "code",
      "source": [
        "z = x < 0\n",
        "z"
      ],
      "metadata": {
        "colab": {
          "base_uri": "https://localhost:8080/"
        },
        "id": "ANGyvHPFgFBP",
        "outputId": "c8d938e7-9608-40f0-c8ac-40d475a59e5f"
      },
      "execution_count": 24,
      "outputs": [
        {
          "output_type": "execute_result",
          "data": {
            "text/plain": [
              "tensor([False, False, False])"
            ]
          },
          "metadata": {},
          "execution_count": 24
        }
      ]
    },
    {
      "cell_type": "code",
      "source": [
        "#Matrix Multiplication\n",
        "\n",
        "x1 = torch.rand((2,5))\n",
        "x2 = torch.rand((5,3))\n",
        "\n",
        "x3 = torch.mm(x1, x2)\n",
        "x3 = x1.mm(x2)\n"
      ],
      "metadata": {
        "colab": {
          "base_uri": "https://localhost:8080/"
        },
        "id": "NwuEKPlNgIvO",
        "outputId": "6b847810-9e52-4766-a223-127bc3778db9"
      },
      "execution_count": 29,
      "outputs": [
        {
          "output_type": "execute_result",
          "data": {
            "text/plain": [
              "tensor([[1.1405, 1.1036, 1.3737],\n",
              "        [1.6818, 1.6347, 1.7260]])"
            ]
          },
          "metadata": {},
          "execution_count": 29
        }
      ]
    },
    {
      "cell_type": "code",
      "source": [
        "# matrix exponentiation\n",
        "\n",
        "matrix_exponent = torch.rand((5,5))\n",
        "matrix_exponent.matrix_power(3)"
      ],
      "metadata": {
        "colab": {
          "base_uri": "https://localhost:8080/"
        },
        "id": "r-QHhF2Rgg80",
        "outputId": "95821ac1-b9af-4acb-f2bc-9a5b8bdaa2de"
      },
      "execution_count": 32,
      "outputs": [
        {
          "output_type": "execute_result",
          "data": {
            "text/plain": [
              "tensor([[1.3979, 1.1794, 1.9389, 1.8819, 0.9178],\n",
              "        [0.9676, 0.9261, 1.4519, 1.5775, 0.7835],\n",
              "        [1.7878, 1.6619, 2.6428, 2.7629, 1.3872],\n",
              "        [1.3844, 1.3685, 2.1021, 2.3505, 1.0582],\n",
              "        [1.6554, 1.7904, 2.6694, 3.2026, 1.4927]])"
            ]
          },
          "metadata": {},
          "execution_count": 32
        }
      ]
    },
    {
      "cell_type": "code",
      "source": [
        "# element wise multiplication\n",
        "z = x * y\n",
        "z"
      ],
      "metadata": {
        "colab": {
          "base_uri": "https://localhost:8080/"
        },
        "id": "tYlR9ktsgp63",
        "outputId": "a3155a7e-250b-4b02-e9ba-b40ca2de2322"
      },
      "execution_count": 34,
      "outputs": [
        {
          "output_type": "execute_result",
          "data": {
            "text/plain": [
              "tensor([ 9, 16, 21])"
            ]
          },
          "metadata": {},
          "execution_count": 34
        }
      ]
    },
    {
      "cell_type": "code",
      "source": [
        "z = torch.dot(x,y)\n",
        "z"
      ],
      "metadata": {
        "colab": {
          "base_uri": "https://localhost:8080/"
        },
        "id": "k89EemO-hL1-",
        "outputId": "46d5bb67-feaa-4d30-932c-c7b6f5862fcd"
      },
      "execution_count": 36,
      "outputs": [
        {
          "output_type": "execute_result",
          "data": {
            "text/plain": [
              "tensor(46)"
            ]
          },
          "metadata": {},
          "execution_count": 36
        }
      ]
    },
    {
      "cell_type": "code",
      "source": [
        "#Batch Matrix multiplication\n",
        "\n",
        "batch = 32\n",
        "n = 10\n",
        "m = 20\n",
        "p = 30\n",
        "\n",
        "t1 = torch.rand((batch,n,m))\n",
        "t2 = torch.rand((batch,m,p))\n",
        "out_bmm = torch.bmm(t1,t2)  # batch, n ,p"
      ],
      "metadata": {
        "id": "YvVB5MFuhdS8"
      },
      "execution_count": 38,
      "outputs": []
    },
    {
      "cell_type": "code",
      "source": [
        "# Examples of Broadcasting\n",
        "x1 = torch.rand((5,5))\n",
        "x2 = torch.rand((1,5))\n",
        "z = x1 - x2\n",
        "z = x1 ** x2"
      ],
      "metadata": {
        "id": "JKJNQlMRiAYw"
      },
      "execution_count": 43,
      "outputs": []
    },
    {
      "cell_type": "code",
      "source": [
        "#Other useful operations\n",
        "\n",
        "sum_x = torch.sum(x,dim=0)\n",
        "values, indices = torch.max(x,dim = 0)\n",
        "values, indices = torch.min(x,dim = 0)\n",
        "abs_x = torch.abs(x)\n",
        "z = torch.argmax(x, dim = 0) #Only returns the index of the maximum element\n",
        "z = torch.argmin(x, dim = 0)\n",
        "mean_x = torch.mean(x.float(), dim = 0)\n",
        "z = torch.eq(x,y) #Checks which elements are equal, returns true/false per element\n",
        "z\n",
        "torch.sort(y,dim = 0, descending=False)"
      ],
      "metadata": {
        "colab": {
          "base_uri": "https://localhost:8080/"
        },
        "id": "CPaaCJxeiiVJ",
        "outputId": "ab7961d2-2efc-4f1a-dac3-8e95294aa75d"
      },
      "execution_count": 49,
      "outputs": [
        {
          "output_type": "execute_result",
          "data": {
            "text/plain": [
              "torch.return_types.sort(\n",
              "values=tensor([7, 8, 9]),\n",
              "indices=tensor([2, 1, 0]))"
            ]
          },
          "metadata": {},
          "execution_count": 49
        }
      ]
    }
  ]
}